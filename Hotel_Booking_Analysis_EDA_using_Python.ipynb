{
  "nbformat": 4,
  "nbformat_minor": 0,
  "metadata": {
    "colab": {
      "private_outputs": true,
      "provenance": [],
      "collapsed_sections": [
        "gIfDvo9L0UH2"
      ],
      "include_colab_link": true
    },
    "kernelspec": {
      "name": "python3",
      "display_name": "Python 3"
    },
    "language_info": {
      "name": "python"
    }
  },
  "cells": [
    {
      "cell_type": "markdown",
      "metadata": {
        "id": "view-in-github",
        "colab_type": "text"
      },
      "source": [
        "<a href=\"https://colab.research.google.com/github/Kovidk/DS-EDA-Hotel-Booking-Analysis/blob/main/Hotel_Booking_Analysis_EDA_using_Python.ipynb\" target=\"_parent\"><img src=\"https://colab.research.google.com/assets/colab-badge.svg\" alt=\"Open In Colab\"/></a>"
      ]
    },
    {
      "cell_type": "markdown",
      "source": [
        "# **Project Name**    - Hotel Booking Analysis EDA using Python\n",
        "\n"
      ],
      "metadata": {
        "id": "vncDsAP0Gaoa"
      }
    },
    {
      "cell_type": "markdown",
      "source": [
        "##### **Project Type**    - EDA\n",
        "##### **Contribution**    - Individual\n",
        "#####Team Member 1 - Kovid Krishnan\n",
        "#####Team Member 2 -\n",
        "#####Team Member 3 -\n",
        "#####Team Member 4 -\n"
      ],
      "metadata": {
        "id": "f4YgQcaSZBYi"
      }
    },
    {
      "cell_type": "markdown",
      "source": [
        "# **Project Summary -**"
      ],
      "metadata": {
        "id": "FJNUwmbgGyua"
      }
    },
    {
      "cell_type": "markdown",
      "source": [
        "Write the summary here within 500-600 words.\n",
        "\n",
        "\n",
        "In this hotel booking analysis, our goal was to explore customer data and identify trends or correlations. The purpose of the exploratory data analysis (EDA) was to investigate the hotel booking dataset and uncover potential relationships between key variables. The dataset comprised over 119,390 hotel bookings, each with various details such as hotel type, cancellation status, lead time, arrival date, meal preferences, and more.\n",
        "\n",
        "During the analysis, we calculated descriptive statistics for each variable and used various visualizations, such as pie charts, bar plots, line plots, box plots, and pair plots, to better understand the data.\n",
        "\n",
        "The dataset included 32 variables, categorized into three data types: 12 object variables, 16 integer variables, and four floating-point variables. We successfully removed 31,994 duplicate values from the dataset. However, some variables had null values, with country having 452, children having four, agent having 12,193, and company having 82,137 null values. To handle this, we filled null values for \"agent,\" \"children,\" and \"country\" with their mode values, but since \"company\" had over 50% null values, we decided to remove it.\n",
        "\n",
        "To enhance convenience and analysis, we converted the data types of \"children,\" \"agent,\" and \"reservation_status_date\" to integer and datetime formats, respectively. Additionally, we performed feature engineering and introduced new variables, namely \"total_stay\" and \"total_guests,\" which were both transformed to integer data type.\n",
        "\n",
        "After data cleaning and exploration, we found several interesting insights:\n",
        "\n",
        "* City hotels received more bookings than resort hotels.\n",
        "* The top country with the most bookings was PRT.\n",
        "* Agent 9 was the most active with the highest number of bookings.\n",
        "* A majority of customers preferred city hotels over resort hotels by a significant margin of 61.07 percent.\n",
        "* One among every four reservations in the dataset were canceled.\n",
        "* The most popular meal type was BB (Bread and Breakfast).\n",
        "* Most bookings were made using TA/TO (Travel Agents/Tour Operators), the leading distribution channel.\n",
        "* Room Type A was the most preferred choice among customers.\n",
        "* Booking cancellations were not significantly influenced by lead time.\n",
        "* August was the busiest month.\n",
        "\n",
        "While performing the analysis, we encountered some challenges with the dataset, including handling duplicate values and managing null values. Additionally, selecting the most effective visualization method and performing feature engineering posed certain difficulties.\n",
        "\n",
        "In conclusion, this exploratory data analysis provided valuable insights into hotel bookings and customer preferences. The findings can help hotel management and marketing teams make informed decisions to optimize their business strategies, offer tailored services, and enhance customer satisfaction.\n",
        "\n",
        "Some Challenges that we faced were:\n",
        "* dataset contained a large number of duplicates.\n",
        "* Format Type of Data was not proper\n",
        "* A large number of null values were present in the dataset\n",
        "* Selection of best visualization techniques"
      ],
      "metadata": {
        "id": "F6v_1wHtG2nS"
      }
    },
    {
      "cell_type": "markdown",
      "source": [
        "# **GitHub Link -**"
      ],
      "metadata": {
        "id": "w6K7xa23Elo4"
      }
    },
    {
      "cell_type": "markdown",
      "source": [
        "https://github.com/Kovidk/DS-EDA-Hotel-Booking-Analysis"
      ],
      "metadata": {
        "id": "h1o69JH3Eqqn"
      }
    },
    {
      "cell_type": "markdown",
      "source": [
        "# **Problem Statement**\n"
      ],
      "metadata": {
        "id": "yQaldy8SH6Dl"
      }
    },
    {
      "cell_type": "markdown",
      "source": [
        "Have you ever wondered when the best time of year to book a hotel room is? Or the optimal length of stay in order to get the best daily rate? What if you wanted to predict whether or not a hotel was likely to receive a disproportionately high number of special requests? This hotel booking dataset can help you explore those questions!\n",
        "This data set contains booking information for a city hotel and a resort hotel, and includes information such as when the booking was made, length of stay, the number of adults, children, and/or babies, and the number of available parking spaces, among other things. All personally identifying information has been removed from the data.\n",
        "Explore and analyze the data to discover important factors that govern the bookings."
      ],
      "metadata": {
        "id": "DpeJGUA3kjGy"
      }
    },
    {
      "cell_type": "markdown",
      "source": [
        "#### **Define Your Business Objective?**"
      ],
      "metadata": {
        "id": "PH-0ReGfmX4f"
      }
    },
    {
      "cell_type": "markdown",
      "source": [
        "Our objective is to conduct EDA on the given dataset and derive valuable conclusions by analyzing the trends in hotel booking and how the features interact with each other to affect hotel bookings."
      ],
      "metadata": {
        "id": "PhDvGCAqmjP1"
      }
    },
    {
      "cell_type": "markdown",
      "source": [
        "# **General Guidelines** : -"
      ],
      "metadata": {
        "id": "mDgbUHAGgjLW"
      }
    },
    {
      "cell_type": "markdown",
      "source": [
        "1.   Well-structured, formatted, and commented code is required.\n",
        "2.   Exception Handling, Production Grade Code & Deployment Ready Code will be a plus. Those students will be awarded some additional credits.\n",
        "\n",
        "     The additional credits will have advantages over other students during Star Student selection.\n",
        "\n",
        "             [ Note: - Deployment Ready Code is defined as, the whole .ipynb notebook should be executable in one go\n",
        "                       without a single error logged. ]\n",
        "\n",
        "3.   Each and every logic should have proper comments.\n",
        "4. You may add as many number of charts you want. Make Sure for each and every chart the following format should be answered.\n",
        "\n",
        "\n",
        "```\n",
        "# Chart visualization code\n",
        "```\n",
        "\n",
        "\n",
        "*   Why did you pick the specific chart?\n",
        "*   What is/are the insight(s) found from the chart?\n",
        "* Will the gained insights help creating a positive business impact?\n",
        "Are there any insights that lead to negative growth? Justify with specific reason.\n",
        "\n",
        "5. You have to create at least 20 logical & meaningful charts having important insights.\n",
        "\n",
        "\n",
        "[ Hints : - Do the Vizualization in  a structured way while following \"UBM\" Rule.\n",
        "\n",
        "U - Univariate Analysis,\n",
        "\n",
        "B - Bivariate Analysis (Numerical - Categorical, Numerical - Numerical, Categorical - Categorical)\n",
        "\n",
        "M - Multivariate Analysis\n",
        " ]\n",
        "\n",
        "\n",
        "\n"
      ],
      "metadata": {
        "id": "ZrxVaUj-hHfC"
      }
    },
    {
      "cell_type": "markdown",
      "source": [
        "# ***Let's Begin !***"
      ],
      "metadata": {
        "id": "O_i_v8NEhb9l"
      }
    },
    {
      "cell_type": "markdown",
      "source": [
        "## ***1. Know Your Data***"
      ],
      "metadata": {
        "id": "HhfV-JJviCcP"
      }
    },
    {
      "cell_type": "markdown",
      "source": [
        "### Import Libraries"
      ],
      "metadata": {
        "id": "Y3lxredqlCYt"
      }
    },
    {
      "cell_type": "code",
      "source": [
        "# Import Libraries\n",
        "import pandas as pd\n",
        "import numpy as np\n",
        "import matplotlib.pyplot as plt\n",
        "import seaborn as sns\n",
        "import plotly.express as px\n",
        "import plotly.graph_objs as go"
      ],
      "metadata": {
        "id": "M8Vqi-pPk-HR"
      },
      "execution_count": null,
      "outputs": []
    },
    {
      "cell_type": "code",
      "source": [
        "from google.colab import drive\n",
        "drive.mount('/content/drive')"
      ],
      "metadata": {
        "id": "ppDWzb5Pzm2H"
      },
      "execution_count": null,
      "outputs": []
    },
    {
      "cell_type": "markdown",
      "source": [
        "### Dataset Loading"
      ],
      "metadata": {
        "id": "3RnN4peoiCZX"
      }
    },
    {
      "cell_type": "code",
      "source": [
        "# Load Dataset\n",
        "path = '/content/drive/MyDrive/AlmaBetter/Cohort London/Project/Hotel Bookings.csv'\n",
        "hotel_df = pd.read_csv(path)"
      ],
      "metadata": {
        "id": "4CkvbW_SlZ_R"
      },
      "execution_count": null,
      "outputs": []
    },
    {
      "cell_type": "markdown",
      "source": [
        "### Dataset First View"
      ],
      "metadata": {
        "id": "x71ZqKXriCWQ"
      }
    },
    {
      "cell_type": "code",
      "source": [
        "# Dataset First Look\n",
        "hotel_df.shape"
      ],
      "metadata": {
        "id": "LWNFOSvLl09H"
      },
      "execution_count": null,
      "outputs": []
    },
    {
      "cell_type": "code",
      "source": [
        "# Display all the columns\n",
        "pd.set_option('display.max_columns',None)\n",
        "# display 5 rows from the top\n",
        "hotel_df.head()"
      ],
      "metadata": {
        "id": "4SzRfi-TMgaq"
      },
      "execution_count": null,
      "outputs": []
    },
    {
      "cell_type": "markdown",
      "source": [
        "### Dataset Rows & Columns count"
      ],
      "metadata": {
        "id": "7hBIi_osiCS2"
      }
    },
    {
      "cell_type": "code",
      "source": [
        "# Dataset Rows & Columns count\n",
        "rows = len(hotel_df.index)\n",
        "print(f\"Number of rows in the dataframe : {rows}\")\n",
        "columns = len(hotel_df.columns)\n",
        "print(f\"Number of columns in the dataframe : {columns}\")"
      ],
      "metadata": {
        "id": "Kllu7SJgmLij"
      },
      "execution_count": null,
      "outputs": []
    },
    {
      "cell_type": "markdown",
      "source": [
        "### Dataset Information"
      ],
      "metadata": {
        "id": "JlHwYmJAmNHm"
      }
    },
    {
      "cell_type": "code",
      "source": [
        "# Dataset Info\n",
        "hotel_df.info()"
      ],
      "metadata": {
        "id": "e9hRXRi6meOf"
      },
      "execution_count": null,
      "outputs": []
    },
    {
      "cell_type": "markdown",
      "source": [
        "#### Duplicate Values"
      ],
      "metadata": {
        "id": "35m5QtbWiB9F"
      }
    },
    {
      "cell_type": "code",
      "source": [
        "# Dataset Duplicate Value Count\n",
        "hotel_df[hotel_df.duplicated()].shape\n"
      ],
      "metadata": {
        "id": "1sLdpKYkmox0"
      },
      "execution_count": null,
      "outputs": []
    },
    {
      "cell_type": "code",
      "source": [
        "# Removing Duplicate Data\n",
        "hotel_df.drop_duplicates(inplace=True)"
      ],
      "metadata": {
        "id": "vxCd2HA7IFK9"
      },
      "execution_count": null,
      "outputs": []
    },
    {
      "cell_type": "code",
      "source": [
        "hotel_df.shape"
      ],
      "metadata": {
        "id": "GDxST9GX7M3o"
      },
      "execution_count": null,
      "outputs": []
    },
    {
      "cell_type": "markdown",
      "source": [
        "#### Missing Values/Null Values"
      ],
      "metadata": {
        "id": "PoPl-ycgm1ru"
      }
    },
    {
      "cell_type": "code",
      "source": [
        "# find null values in the columns, sorting and displaying only columns with null values\n",
        "hotel_df_null_columns = hotel_df.isnull().sum().sort_values(ascending = False)[:4]\n",
        "hotel_df_null_columns"
      ],
      "metadata": {
        "id": "cxKRzQzMV743"
      },
      "execution_count": null,
      "outputs": []
    },
    {
      "cell_type": "code",
      "source": [
        "# Visualizing the missing values\n",
        "plt.subplots(figsize=(8,6))\n",
        "# hotel_df_null_columns\n",
        "sns.barplot(x = hotel_df_null_columns.index,y = hotel_df_null_columns.values)\n",
        "plt.title('Columnwise Null Values')\n",
        "plt.xlabel('Columns')\n",
        "plt.ylabel('Null Count')"
      ],
      "metadata": {
        "id": "3q5wnI3om9sJ"
      },
      "execution_count": null,
      "outputs": []
    },
    {
      "cell_type": "code",
      "source": [
        "hotel_df.apply(lambda x:x.unique())"
      ],
      "metadata": {
        "id": "f8hvf5Eh3hSe"
      },
      "execution_count": null,
      "outputs": []
    },
    {
      "cell_type": "code",
      "source": [
        "#replacing null values in agent, children and country column with the mode value\n",
        "hotel_df['children']=hotel_df['children'].fillna(hotel_df['children'].mode()[0])\n",
        "hotel_df['country']=hotel_df['country'].fillna(hotel_df['country'].mode()[0])\n",
        "hotel_df['agent']=hotel_df['agent'].fillna(hotel_df['agent'].mode()[0])"
      ],
      "metadata": {
        "id": "oRE1aCKYsySb"
      },
      "execution_count": null,
      "outputs": []
    },
    {
      "cell_type": "code",
      "source": [
        "#replacing null values in company column with 0\n",
        "hotel_df[['company']] = hotel_df[['company']].fillna(0)"
      ],
      "metadata": {
        "id": "OKV9ZqHo698u"
      },
      "execution_count": null,
      "outputs": []
    },
    {
      "cell_type": "code",
      "source": [
        "hotel_df.isnull().sum()"
      ],
      "metadata": {
        "id": "uvOUFqTnfBGh"
      },
      "execution_count": null,
      "outputs": []
    },
    {
      "cell_type": "markdown",
      "source": [
        "### What did you know about your dataset?"
      ],
      "metadata": {
        "id": "H0kj-8xxnORC"
      }
    },
    {
      "cell_type": "markdown",
      "source": [
        "There may be many customers who did not make their booking either through company or an agent and this is why we see a lot of null values in these columns. We will fill these null values with zero. We know that children column has 0 as a value which means that no children was present with the person who made the booking. But we see the nan is also present which concludes that these are the missing values and hence we will replace these values with the mean value of children. The country columns cannot hold Null values and thus need to be replaced with some value like 'others'."
      ],
      "metadata": {
        "id": "gfoNAAC-nUe_"
      }
    },
    {
      "cell_type": "markdown",
      "source": [
        "## ***2. Understanding Your Variables***"
      ],
      "metadata": {
        "id": "nA9Y7ga8ng1Z"
      }
    },
    {
      "cell_type": "code",
      "source": [
        "# Dataset Columns\n",
        "hotel_df.columns"
      ],
      "metadata": {
        "id": "j7xfkqrt5Ag5"
      },
      "execution_count": null,
      "outputs": []
    },
    {
      "cell_type": "code",
      "source": [
        "# Dataset Describe\n",
        "hotel_df.describe()"
      ],
      "metadata": {
        "id": "DnOaZdaE5Q5t"
      },
      "execution_count": null,
      "outputs": []
    },
    {
      "cell_type": "markdown",
      "source": [
        "### Variables Description"
      ],
      "metadata": {
        "id": "PBTbrJXOngz2"
      }
    },
    {
      "cell_type": "markdown",
      "source": [
        "- hotel: Name of hotel ( City or Resort)\n",
        "- is_canceled: Whether the booking is canceled or not (0 for not cancelled and 1 for cancelled)\n",
        "- lead_time: time (in days) between booking transaction and actual arrival.\n",
        "- arrival_date_year: Year of arrival\n",
        "- arrival_date_month: month of arrival\n",
        "- arrival_date_week_number: week number of arrival date.\n",
        "- arrival_date_day_of_month: Day of month of arrival date\n",
        "- stays_in_weekend_nights: No. of weekend nights spent in a hotel\n",
        "- stays_in_week_nights: No. of weeknights spent in a hotel\n",
        "- adults: No. of adults in single booking record.\n",
        "- children: No. of children in single booking record.\n",
        "- babies: No. of babies in single booking record.\n",
        "- meal: Type of meal chosen\n",
        "- country: Country of origin of customers (as mentioned by them)\n",
        "- market_segment: What segment via booking was made and for what purpose.\n",
        "- distribution_channel: Via which medium booking was made.\n",
        "- is_repeated_guest: Whether the customer has made any booking before(0 for No and 1 for Yes)\n",
        "- previous_cancellations: No. of previous canceled bookings.\n",
        "- previous_bookings_not_canceled: No. of previous non-canceled bookings.\n",
        "- reserved_room_type: Room type reserved by a customer.\n",
        "- assigned_room_type: Room type assigned to the customer.\n",
        "- booking_changes: No. of booking changes done by customers\n",
        "- deposit_type: Type of deposit at the time of making a booking (No deposit/ Refundable/ No refund)\n",
        "- agent: Id of agent for booking\n",
        "- company: Id of the company making a booking\n",
        "- days_in_waiting_list: No. of days on waiting list.\n",
        "- customer_type: Type of customer(Transient, Group, etc.)\n",
        "- adr: Average Daily rate.\n",
        "- required_car_parking_spaces: No. of car parking asked in booking\n",
        "- total_of_special_requests: total no. of special request.\n",
        "- reservation_status: Whether a customer has checked out or canceled,or not showed\n",
        "- reservation_status_date: Date of making reservation status."
      ],
      "metadata": {
        "id": "aJV4KIxSnxay"
      }
    },
    {
      "cell_type": "markdown",
      "source": [
        "### Check Unique Values for each variable."
      ],
      "metadata": {
        "id": "u3PMJOP6ngxN"
      }
    },
    {
      "cell_type": "code",
      "source": [
        "# Check Unique Values for each variable.\n",
        "hotel_df.apply(lambda x:x.unique())"
      ],
      "metadata": {
        "id": "zms12Yq5n-jE"
      },
      "execution_count": null,
      "outputs": []
    },
    {
      "cell_type": "markdown",
      "source": [
        "## 3. ***Data Wrangling***"
      ],
      "metadata": {
        "id": "dauF4eBmngu3"
      }
    },
    {
      "cell_type": "markdown",
      "source": [
        "### Data Wrangling Code"
      ],
      "metadata": {
        "id": "bKJF3rekwFvQ"
      }
    },
    {
      "cell_type": "code",
      "source": [
        "# Converting data type of children, company and agent columns from float to int\n",
        "hotel_df[['children','company','agent']]= hotel_df[['children','company','agent']].astype('int64')"
      ],
      "metadata": {
        "id": "wk-9a2fpoLcV"
      },
      "execution_count": null,
      "outputs": []
    },
    {
      "cell_type": "code",
      "source": [
        "# Converting data type of reservation_status_date into date type\n",
        "hotel_df['reservation_status_date'] = pd.to_datetime(hotel_df['reservation_status_date'],format = '%Y-%m-%d')"
      ],
      "metadata": {
        "id": "dD-H9NSUTvmt"
      },
      "execution_count": null,
      "outputs": []
    },
    {
      "cell_type": "code",
      "source": [
        "# adding total number of guests as a column\n",
        "hotel_df['total_guests'] = hotel_df['adults'] + hotel_df['children'] + hotel_df['babies']"
      ],
      "metadata": {
        "id": "jwgVxAZCSc-2"
      },
      "execution_count": null,
      "outputs": []
    },
    {
      "cell_type": "code",
      "source": [
        "# adding total stay days as a column\n",
        "hotel_df['total_stay'] = hotel_df['stays_in_week_nights'] + hotel_df['stays_in_weekend_nights']\n"
      ],
      "metadata": {
        "id": "Yk6QxQQ9THlV"
      },
      "execution_count": null,
      "outputs": []
    },
    {
      "cell_type": "code",
      "source": [
        "#removing adults, children, babies column\n",
        "hotel_df.drop(['adults','children','babies'],axis = 1,inplace=True)"
      ],
      "metadata": {
        "id": "CeOXeWhtbHqL"
      },
      "execution_count": null,
      "outputs": []
    },
    {
      "cell_type": "markdown",
      "source": [
        "### What all manipulations have you done and insights you found?"
      ],
      "metadata": {
        "id": "MSa1f5Uengrz"
      }
    },
    {
      "cell_type": "markdown",
      "source": [
        "Answer Here."
      ],
      "metadata": {
        "id": "LbyXE7I1olp8"
      }
    },
    {
      "cell_type": "markdown",
      "source": [
        "## ***4. Data Vizualization, Storytelling & Experimenting with charts : Understand the relationships between variables***"
      ],
      "metadata": {
        "id": "GF8Ens_Soomf"
      }
    },
    {
      "cell_type": "markdown",
      "source": [
        "### Univariate Analysis"
      ],
      "metadata": {
        "id": "BvoSZlKy1B_g"
      }
    },
    {
      "cell_type": "markdown",
      "source": [
        "#### Chart - 1"
      ],
      "metadata": {
        "id": "0wOQAZs5pc--"
      }
    },
    {
      "cell_type": "markdown",
      "source": [
        "1) Which hotel has most number of bookings(with and without canceled bookings)?"
      ],
      "metadata": {
        "id": "htOCJwTZNAR_"
      }
    },
    {
      "cell_type": "code",
      "source": [
        "# Calculate the count of bookings for each hotel category ('City Hotel' and 'Resort Hotel')\n",
        "hotelwise_bookings_df = hotel_df['hotel'].value_counts()\n",
        "\n",
        "# Display the resulting Series with the count of bookings for each hotel category\n",
        "hotelwise_bookings_df\n"
      ],
      "metadata": {
        "id": "jZzoJzRuMLY0"
      },
      "execution_count": null,
      "outputs": []
    },
    {
      "cell_type": "code",
      "source": [
        "# Donut chart for hotels by number of bookings including canceled bookings\n",
        "# Create trace1 for the donut chart displaying hotelwise bookings\n",
        "trace1 = go.Pie(\n",
        "    domain={'x': [0, 1], 'y': [0, 1]},  # Set the position and size of the chart\n",
        "    labels=hotelwise_bookings_df.index,  # Hotel names as labels\n",
        "    values=hotelwise_bookings_df.values,  # Count of bookings as values\n",
        "    hole=0.5,  # Size of the center hole, creating the donut effect\n",
        "    textinfo='label + value + percent',  # Display additional information on the chart\n",
        "    textposition='outside',  # Position of the additional text\n",
        "    marker=dict(colors=['#2D3E50', '#FC4349'], line=dict(color='#FFFFFF', width=2))  # Colors and line settings\n",
        ")\n",
        "\n",
        "# Create trace2 for the donut chart displaying total dataset count\n",
        "trace2 = go.Pie(\n",
        "    domain={'x': [.25, .75], 'y': [.25, .75]},  # Set the position and size of the chart\n",
        "    labels=['Total Dataset'],  # Label for the single entry in this donut chart\n",
        "    values=[len(hotel_df)],  # Total count of entries in the dataset\n",
        "    textinfo='label + value + percent',  # Display additional information on the chart\n",
        "    textposition='inside',  # Position of the additional text\n",
        "    marker=dict(colors=['#446384'], line=dict(color='#FFFFFF', width=4))  # Colors and line settings\n",
        ")\n",
        "\n",
        "# Combine the traces into the data list\n",
        "data = [trace1, trace2]\n",
        "\n",
        "# Define the layout for the figure\n",
        "layout = go.Layout(\n",
        "    title={'text': 'Booking % hotelwise with canceled bookings', 'font': {'size': 24}},  # Set the chart title\n",
        "    legend={'bgcolor': '#F5F5F5', 'bordercolor': '#CCCCCC', 'borderwidth': 5,  # Customize the legend appearance\n",
        "            'font': {'size': 14, 'color': '#333333'}}\n",
        ")\n",
        "\n",
        "# Create the figure with the defined data and layout\n",
        "fig1 = go.FigureWidget(data=data, layout=layout)\n",
        "\n",
        "# Display the figure\n",
        "fig1.show()\n"
      ],
      "metadata": {
        "id": "Pjyufo6MOJH6"
      },
      "execution_count": null,
      "outputs": []
    },
    {
      "cell_type": "code",
      "source": [
        "# Donut chart for hotels by number of bookings excluding canceled bookings\n",
        "\n",
        "# Filter the DataFrame to remove canceled bookings\n",
        "hotel_df_not_canceled = hotel_df[hotel_df['is_canceled'] == 0].reset_index()\n",
        "\n",
        "# Count the number of bookings for each hotel category in the filtered DataFrame\n",
        "hotel_df_not_canceled_count = hotel_df_not_canceled['hotel'].value_counts()\n",
        "\n",
        "# Create trace1 for the donut chart displaying hotelwise bookings excluding canceled bookings\n",
        "trace1 = go.Pie(\n",
        "    domain={'x': [0, 1], 'y': [0, 1]},  # Set the position and size of the chart\n",
        "    labels=hotel_df_not_canceled_count.index,  # Hotel names as labels\n",
        "    values=hotel_df_not_canceled_count.values,  # Count of bookings as values\n",
        "    hole=0.5,  # Size of the center hole, creating the donut effect\n",
        "    textinfo='label + value + percent',  # Display additional information on the chart\n",
        "    textposition='outside',  # Position of the additional text\n",
        "    marker=dict(colors=['#2D3E50', '#FC4349'], line=dict(color='#FFFFFF', width=2))  # Colors and line settings\n",
        ")\n",
        "\n",
        "# Create trace2 for the donut chart displaying total dataset count after excluding canceled bookings\n",
        "trace2 = go.Pie(\n",
        "    domain={'x': [.25, .75], 'y': [.25, .75]},  # Set the position and size of the chart\n",
        "    labels=['Total Dataset'],  # Label for the single entry in this donut chart\n",
        "    values=[len(hotel_df_not_canceled)],  # Total count of entries in the dataset after excluding canceled bookings\n",
        "    textinfo='label + value + percent',  # Display additional information on the chart\n",
        "    textposition='inside',  # Position of the additional text\n",
        "    marker=dict(colors=['#446384'], line=dict(color='#FFFFFF', width=2))  # Colors and line settings\n",
        ")\n",
        "\n",
        "# Combine the traces into the data list\n",
        "data = [trace1, trace2]\n",
        "\n",
        "# Define the layout for the figure\n",
        "layout = go.Layout(\n",
        "    title={'text': 'Booking % hotelwise without canceled bookings', 'font': {'size': 24}},  # Set the chart title\n",
        "    legend={'bgcolor': '#F5F5F5', 'bordercolor': '#CCCCCC', 'borderwidth': 1,  # Customize the legend appearance\n",
        "            'font': {'size': 14, 'color': '#333333'}}\n",
        ")\n",
        "\n",
        "# Create the figure with the defined data and layout\n",
        "fig1 = go.FigureWidget(data=data, layout=layout)\n",
        "\n",
        "# Display the figure\n",
        "fig1.show()\n"
      ],
      "metadata": {
        "id": "hVQm1AigQwrY"
      },
      "execution_count": null,
      "outputs": []
    },
    {
      "cell_type": "markdown",
      "source": [
        "##### 1. Why did you pick the specific chart?"
      ],
      "metadata": {
        "id": "K5QZ13OEpz2H"
      }
    },
    {
      "cell_type": "markdown",
      "source": [
        "We chose the donut chart to show the proportions of bookings for each hotel in relation to the total bookings by using graph objects. We used traces here to respresent a single set of data for both canceled and non canceled bookings. It allows us to visually compare different hotels and see their contributions to the overall number of bookings."
      ],
      "metadata": {
        "id": "R2LoUmdMhpqG"
      }
    },
    {
      "cell_type": "markdown",
      "source": [
        "##### 2. What is/are the insight(s) found from the chart?"
      ],
      "metadata": {
        "id": "lQ7QKXXCp7Bj"
      }
    },
    {
      "cell_type": "markdown",
      "source": [
        "The total dataset has been reduced from 87k to 63k when we remove the canceled bookings from the dataset i.e. almost 1/4th of the reservation got canceled. With the canceled dataset we found that around 61% of the bookings were made for City Hotel and 39% for Resort hotel. When we plot the chart after removing canceled bookings from the dataset we found that the bookings in the City Hotel were increased to almost 67% wherease that of resort hotel reduced to 33%."
      ],
      "metadata": {
        "id": "C_j1G7yiqdRP"
      }
    },
    {
      "cell_type": "markdown",
      "source": [
        "##### 3. Will the gained insights help creating a positive business impact?\n",
        "Are there any insights that lead to negative growth? Justify with specific reason."
      ],
      "metadata": {
        "id": "448CDAPjqfQr"
      }
    },
    {
      "cell_type": "markdown",
      "source": [
        "\n",
        "Positive Business Impact: Yes, the insights can lead to a positive business impact by optimizing marketing, resource allocation, and revenue management.\n",
        "\n",
        "Potential Negative Impact: High percentage of canceled bookings in Resort Hotel may lead to revenue loss and lower customer satisfaction due to inefficiency in resource allocation and occupancy."
      ],
      "metadata": {
        "id": "3cspy4FjqxJW"
      }
    },
    {
      "cell_type": "markdown",
      "source": [
        "#### Chart - 2"
      ],
      "metadata": {
        "id": "KSlN3yHqYklG"
      }
    },
    {
      "cell_type": "markdown",
      "source": [
        "2) Which agent has most number of bookings based on the type of hotel?"
      ],
      "metadata": {
        "id": "ztMpfngO5bpV"
      }
    },
    {
      "cell_type": "code",
      "source": [
        "# Create a dataframe of the number of bookings for each agent\n",
        "df_bookings = pd.DataFrame(hotel_df['agent'].value_counts()).reset_index().rename(columns = {'index':'agent','agent':'number_of_bookings'})\n",
        "\n",
        "# Limit df_bookings to only include the top 10 agents\n",
        "df_bookings = df_bookings[df_bookings['number_of_bookings'] != 0][:10]\n",
        "\n",
        "# Create a bar plot of the distribution of hotel bookings by agent\n",
        "plt.subplots(figsize = (15,8)) # Set the size of the plot\n",
        "sns.barplot(x = 'agent', # Use 'agent' as the x-axis\n",
        "            y = 'number_of_bookings', # Use 'number_of_bookings' as the y-axis\n",
        "            data = df_bookings, # Use df_bookings as the data for the plot\n",
        "            order = df_bookings['agent']) # Order the x-axis by the agents in df_bookings\n",
        "plt.show() # Show the plot\n"
      ],
      "metadata": {
        "id": "R4YgtaqtYklH"
      },
      "execution_count": null,
      "outputs": []
    },
    {
      "cell_type": "markdown",
      "source": [
        "##### 1. Why did you pick the specific chart?"
      ],
      "metadata": {
        "id": "t6dVpIINYklI"
      }
    },
    {
      "cell_type": "markdown",
      "source": [
        "The barplot chart displays data as rectangular bars with lengths proportional to the values they represent and therefore we can find out clearly with the longest length about the agent who has done most number of bookings."
      ],
      "metadata": {
        "id": "5aaW0BYyYklI"
      }
    },
    {
      "cell_type": "markdown",
      "source": [
        "##### 2. What is/are the insight(s) found from the chart?"
      ],
      "metadata": {
        "id": "ijmpgYnKYklI"
      }
    },
    {
      "cell_type": "markdown",
      "source": [
        "From the above barplot we can say that agent number 9 has made most number of bookings whereas agent 1 has made the least number of bookings."
      ],
      "metadata": {
        "id": "PSx9atu2YklI"
      }
    },
    {
      "cell_type": "markdown",
      "source": [
        "##### 3. Will the gained insights help creating a positive business impact?\n",
        "Are there any insights that lead to negative growth? Justify with specific reason."
      ],
      "metadata": {
        "id": "-JiQyfWJYklI"
      }
    },
    {
      "cell_type": "markdown",
      "source": [
        "Yes, the insights about Agent 9 and Agent 1 can have a positive impact by recognizing and motivating high-performing Agent 9. However, the low bookings of Agent 1 might require performance improvement measures."
      ],
      "metadata": {
        "id": "BcBbebzrYklV"
      }
    },
    {
      "cell_type": "markdown",
      "source": [
        "#### Chart - 3"
      ],
      "metadata": {
        "id": "4Of9eVA-YrdM"
      }
    },
    {
      "cell_type": "markdown",
      "source": [
        "3) What is the most preferred distribution channel?"
      ],
      "metadata": {
        "id": "g79kAfKkzawU"
      }
    },
    {
      "cell_type": "code",
      "source": [
        "# Group the data in hotel_df by distribution channel and count the number of bookings for each group\n",
        "df_distribution = hotel_df.groupby('distribution_channel').size().reset_index(name = 'total_booking')\n",
        "\n",
        "# Add a new column to df_distribution that calculates the percentage of bookings for each distribution channel\n",
        "df_distribution['booking%'] = round((df_distribution['total_booking']/df_distribution['total_booking'].sum())*100,2)\n",
        "\n",
        "# Create a pie chart of the distribution of hotel bookings by distribution channel\n",
        "plt.subplots(figsize = (9,9)) # Set the size of the plot\n",
        "plt.pie(x=df_distribution['booking%'], # Use df_distribution['booking%'] as the data for the chart\n",
        "        labels = df_distribution['distribution_channel'], # Use df_distribution['distribution_channel'] as the labels for the chart\n",
        "        explode = [0.1]*5, # Offset all 5 slices by 0.1 units from the center of the pie chart\n",
        "        autopct = '%.2f%%') # Display the percentage values for each slice with 2 decimal places\n",
        "plt.title('Distribution of Hotel Bookings by Distribution Channel', fontsize=16, fontweight='bold')  # Set the title and its properties\n",
        "plt.show() # Show the plot\n"
      ],
      "metadata": {
        "id": "irlUoxc8YrdO"
      },
      "execution_count": null,
      "outputs": []
    },
    {
      "cell_type": "markdown",
      "source": [
        "##### 1. Why did you pick the specific chart?"
      ],
      "metadata": {
        "id": "iky9q4vBYrdO"
      }
    },
    {
      "cell_type": "markdown",
      "source": [
        "A pie chart is used in this code to represent the distribution of hotel bookings by distribution channel. It allows us to easily see the relative size of each group and understand the proportion of bookings for each distribution channel."
      ],
      "metadata": {
        "id": "aJRCwT6DYrdO"
      }
    },
    {
      "cell_type": "markdown",
      "source": [
        "##### 2. What is/are the insight(s) found from the chart?"
      ],
      "metadata": {
        "id": "F6T5p64dYrdO"
      }
    },
    {
      "cell_type": "markdown",
      "source": [
        "The insights indicate that Travel agents and Tour Operators play a significant role, contributing 80% of the bookings, while direct bookings and Corporate Bookings account for only around 15% and 6% respectively."
      ],
      "metadata": {
        "id": "Xx8WAJvtYrdO"
      }
    },
    {
      "cell_type": "markdown",
      "source": [
        "##### 3. Will the gained insights help creating a positive business impact?\n",
        "Are there any insights that lead to negative growth? Justify with specific reason."
      ],
      "metadata": {
        "id": "y-Ehk30pYrdP"
      }
    },
    {
      "cell_type": "markdown",
      "source": [
        "Yes, the insights about TA/TO and direct bookings can have a positive impact by strengthening agent relationships. However, overreliance on agents may pose a risk, and the business should focus on diversifying bookings through efforts to promote direct bookings. Direct and Corporate Bookings should be increased by promoting its marketing and giving good bulk discounts package. GDS(Global Distribution System)and other channels should be dropped due insgnificant number of bookings."
      ],
      "metadata": {
        "id": "jLNxxz7MYrdP"
      }
    },
    {
      "cell_type": "markdown",
      "source": [
        "#### Chart - 4"
      ],
      "metadata": {
        "id": "PIIx-8_IphqN"
      }
    },
    {
      "cell_type": "markdown",
      "source": [
        "4) Which Hotel makes the most revenue on a day to day basis?"
      ],
      "metadata": {
        "id": "sB5xNJmQPA7_"
      }
    },
    {
      "cell_type": "code",
      "source": [
        "# Create a dataframe of the average daily rate (ADR) for each hotel\n",
        "revenue_df = hotel_df.groupby('hotel')['adr'].mean().reset_index().rename(columns = {'adr':'average_adr'})\n",
        "revenue_df"
      ],
      "metadata": {
        "id": "lqAIGUfyphqO"
      },
      "execution_count": null,
      "outputs": []
    },
    {
      "cell_type": "code",
      "source": [
        "# Calculate the average daily rate (ADR) by hotel\n",
        "avg_adr_df = hotel_df.groupby('hotel')['adr'].mean().reset_index(name='average_adr')\n",
        "\n",
        "# Create a donut chart using Plotly to visualize the ADR for each hotel\n",
        "fig = px.pie(avg_adr_df, values='average_adr', names='hotel', hole=0.5, color_discrete_sequence=px.colors.qualitative.Dark2)\n",
        "\n",
        "# Customize the layout of the chart\n",
        "fig.update_layout(\n",
        "    title='Average Daily Rate by Hotel',  # Set the chart title\n",
        "    title_font=dict(size=24),  # Customize the title font size\n",
        "    legend=dict(\n",
        "        bgcolor='#F5F5F5',  # Set the background color of the legend\n",
        "        bordercolor='#CCCCCC',  # Set the color of the legend border\n",
        "        borderwidth=1,  # Set the border width of the legend\n",
        "        font=dict(size=14, color='#333333')  # Customize the font size and color of the legend text\n",
        "    )\n",
        ")\n",
        "\n",
        "# Display the chart\n",
        "fig.show()\n"
      ],
      "metadata": {
        "id": "27FDlV0fCQub"
      },
      "execution_count": null,
      "outputs": []
    },
    {
      "cell_type": "markdown",
      "source": [
        "##### 1. Why did you pick the specific chart?"
      ],
      "metadata": {
        "id": "t27r6nlMphqO"
      }
    },
    {
      "cell_type": "markdown",
      "source": [
        "A pie chart is a good choice for this code because the goal is to compare the average revenue (average daily rate, adr) of different hotels. A pie chart allows for a clear visual comparison in pecentage terms, which represent the average revenue of each hotel. This makes it easy to see which hotel has the highest or lowest average revenue."
      ],
      "metadata": {
        "id": "iv6ro40sphqO"
      }
    },
    {
      "cell_type": "markdown",
      "source": [
        "##### 2. What is/are the insight(s) found from the chart?"
      ],
      "metadata": {
        "id": "r2jJGEOYphqO"
      }
    },
    {
      "cell_type": "markdown",
      "source": [
        "City hotel makes higher revenue than Resort Hotel."
      ],
      "metadata": {
        "id": "Po6ZPi4hphqO"
      }
    },
    {
      "cell_type": "markdown",
      "source": [
        "##### 3. Will the gained insights help creating a positive business impact?\n",
        "Are there any insights that lead to negative growth? Justify with specific reason."
      ],
      "metadata": {
        "id": "b0JNsNcRphqO"
      }
    },
    {
      "cell_type": "markdown",
      "source": [
        "Yes, knowing that City hotel generates higher revenue can positively impact resource allocation, marketing, and investment decisions. However, neglecting Resort hotel could hinder growth potential. Balancing strategies for both hotels is crucial for overall business success."
      ],
      "metadata": {
        "id": "xvSq8iUTphqO"
      }
    },
    {
      "cell_type": "markdown",
      "source": [
        "#### Chart - 5"
      ],
      "metadata": {
        "id": "YJ55k-q6phqO"
      }
    },
    {
      "cell_type": "markdown",
      "source": [
        "5) What type of meal is most favored by the travelers?"
      ],
      "metadata": {
        "id": "DocwymcSwDQD"
      }
    },
    {
      "cell_type": "code",
      "source": [
        "# Create a DataFrame showing the number of bookings for each type of meal\n",
        "meal_bookings_df = pd.DataFrame(hotel_df['meal'].value_counts()).reset_index().rename(columns = {'index':'Meal','meal':'Num_of_Meal_Bookings'})\n",
        "\n",
        "# Show the DataFrame\n",
        "meal_bookings_df"
      ],
      "metadata": {
        "id": "B2aS4O1ophqO"
      },
      "execution_count": null,
      "outputs": []
    },
    {
      "cell_type": "code",
      "source": [
        "# Create a bar plot\n",
        "plt.subplots(figsize=(12,7)) # Set the size of the plot\n",
        "sns.barplot(x = 'Meal',y = 'Num_of_Meal_Bookings',data = meal_bookings_df) # Create the bar plot\n",
        "\n",
        "# Add title to the plot\n",
        "plt.title('Number of Bookings for Each Type of Meal')\n",
        "\n",
        "# Show the plot\n",
        "plt.show()"
      ],
      "metadata": {
        "id": "n-i3j1Ffz44C"
      },
      "execution_count": null,
      "outputs": []
    },
    {
      "cell_type": "markdown",
      "source": [
        "##### 1. Why did you pick the specific chart?"
      ],
      "metadata": {
        "id": "gCFgpxoyphqP"
      }
    },
    {
      "cell_type": "markdown",
      "source": [
        "The bar plot shows the number of meal bookings for each type of meal, making it easy to compare the popularity of different meals and thus we can quickly identify which meals are the most and least popular among traveler."
      ],
      "metadata": {
        "id": "TVxDimi2phqP"
      }
    },
    {
      "cell_type": "markdown",
      "source": [
        "##### 2. What is/are the insight(s) found from the chart?"
      ],
      "metadata": {
        "id": "OVtJsKN_phqQ"
      }
    },
    {
      "cell_type": "markdown",
      "source": [
        "BB i.e. Bread and Breakfast is the most preferred meal while FB i.e. Full Board(brekfast,lunch and dinner) is the least preferred one."
      ],
      "metadata": {
        "id": "ngGi97qjphqQ"
      }
    },
    {
      "cell_type": "markdown",
      "source": [
        "##### 3. Will the gained insights help creating a positive business impact?\n",
        "Are there any insights that lead to negative growth? Justify with specific reason."
      ],
      "metadata": {
        "id": "lssrdh5qphqQ"
      }
    },
    {
      "cell_type": "markdown",
      "source": [
        "The insights on meal preferences can help hotels prioritize breakfast options and design package offers. However, FB preferences are influenced by customer behavior, which may not be directly controllable. At most one can come up with exciting packages for lunch and dinner. Balancing guest experiences is crucial for positive outcomes."
      ],
      "metadata": {
        "id": "tBpY5ekJphqQ"
      }
    },
    {
      "cell_type": "markdown",
      "source": [
        "#### Chart - 6"
      ],
      "metadata": {
        "id": "U2RJ9gkRphqQ"
      }
    },
    {
      "cell_type": "markdown",
      "source": [
        "6) Which channel is used mostly for early booking of hotels?"
      ],
      "metadata": {
        "id": "mZelel-T4Ppe"
      }
    },
    {
      "cell_type": "code",
      "source": [
        "# Create a DataFrame for median lead time based on the distribution channel\n",
        "# Group the 'hotel_df' DataFrame by the 'distribution_channel' column\n",
        "# Rename the 'lead_time' column to 'median_lead_time'\n",
        "dc_lead_time_df = (pd.DataFrame(hotel_df.groupby(['distribution_channel'])['lead_time'].median()).\n",
        "                   reset_index().rename(columns = {'lead_time':'median_lead_time'}))\n",
        "\n",
        "# Show the resulting DataFrame\n",
        "dc_lead_time_df"
      ],
      "metadata": {
        "id": "GM7a4YP4phqQ"
      },
      "execution_count": null,
      "outputs": []
    },
    {
      "cell_type": "code",
      "source": [
        "# Create a figure object with specified size\n",
        "plt.subplots(figsize = (12,6))\n",
        "\n",
        "# Plot a bar plot with 'distribution_channel' on the x-axis and 'median_lead_time' on the y-axis\n",
        "sns.barplot(x = 'distribution_channel', y='median_lead_time', data = dc_lead_time_df)\n",
        "\n",
        "# Add title to the plot\n",
        "plt.title('Median Lead Time by Distribution Channel')\n",
        "\n",
        "# Show the plot\n",
        "plt.show()"
      ],
      "metadata": {
        "id": "L5XztA5KF7di"
      },
      "execution_count": null,
      "outputs": []
    },
    {
      "cell_type": "markdown",
      "source": [
        "##### 1. Why did you pick the specific chart?"
      ],
      "metadata": {
        "id": "1M8mcRywphqQ"
      }
    },
    {
      "cell_type": "markdown",
      "source": [
        "The distribution_channel values are categorical, and the median_lead_time values are numerical. By using a bar plot, we can quickly see which distribution_channel has the highest or lowest median_lead_time."
      ],
      "metadata": {
        "id": "8agQvks0phqQ"
      }
    },
    {
      "cell_type": "markdown",
      "source": [
        "##### 2. What is/are the insight(s) found from the chart?"
      ],
      "metadata": {
        "id": "tgIPom80phqQ"
      }
    },
    {
      "cell_type": "markdown",
      "source": [
        "Most of the travllers prefer TA(Travel Agents)/TO(Tour Operators) for early booking whereas they prefer other distribution channel for sudden visits."
      ],
      "metadata": {
        "id": "Qp13pnNzphqQ"
      }
    },
    {
      "cell_type": "markdown",
      "source": [
        "##### 3. Will the gained insights help creating a positive business impact?\n",
        "Are there any insights that lead to negative growth? Justify with specific reason."
      ],
      "metadata": {
        "id": "JMzcOPDDphqR"
      }
    },
    {
      "cell_type": "markdown",
      "source": [
        " Recognizing the significance of early bookings through TA/TO, we can increase partnerships and promotional efforts to attract more pre-planned travelers."
      ],
      "metadata": {
        "id": "R4Ka1PC2phqR"
      }
    },
    {
      "cell_type": "markdown",
      "source": [
        "#### Chart - 7"
      ],
      "metadata": {
        "id": "x-EpHcCOp1ci"
      }
    },
    {
      "cell_type": "markdown",
      "source": [
        "7) Which room type generates highes ADR?"
      ],
      "metadata": {
        "id": "v7SjqCXYMzsn"
      }
    },
    {
      "cell_type": "code",
      "source": [
        "# Create a DataFrame that aggregates the 'adr' values in the 'hotel_df' DataFrame by 'assigned_room_type'\n",
        "# Compute the sum of 'adr' for each group and reset the index of 'hotel_df'\n",
        "room_adr_df = pd.DataFrame(hotel_df.groupby(['assigned_room_type'])['adr'].sum()).reset_index()\n",
        "\n",
        "# Create a figure object with specified size\n",
        "plt.subplots(figsize=(12, 6))\n",
        "\n",
        "# Plot a bar plot with 'assigned_room_type' on the x-axis and 'adr' on the y-axis\n",
        "sns.barplot(y='adr', x='assigned_room_type', data=room_adr_df)\n",
        "\n",
        "# Add title to the plot\n",
        "plt.title('Total ADR by Assigned Room Type')\n",
        "\n",
        "# Show the plot\n",
        "plt.show()"
      ],
      "metadata": {
        "id": "mAQTIvtqp1cj"
      },
      "execution_count": null,
      "outputs": []
    },
    {
      "cell_type": "markdown",
      "source": [
        "##### 1. Why did you pick the specific chart?"
      ],
      "metadata": {
        "id": "X_VqEhTip1ck"
      }
    },
    {
      "cell_type": "markdown",
      "source": [
        "The bar chart is a suitable choice for this specific analysis as it effectively compares the total ADR for different room types in a clear and straightforward manner."
      ],
      "metadata": {
        "id": "-vsMzt_np1ck"
      }
    },
    {
      "cell_type": "markdown",
      "source": [
        "##### 2. What is/are the insight(s) found from the chart?"
      ],
      "metadata": {
        "id": "8zGJKyg5p1ck"
      }
    },
    {
      "cell_type": "markdown",
      "source": [
        "Room Type A and D have the highest ADR. E,F,G have moderate ADR while other room types have insignificant ADR."
      ],
      "metadata": {
        "id": "ZYdMsrqVp1ck"
      }
    },
    {
      "cell_type": "markdown",
      "source": [
        "##### 3. Will the gained insights help creating a positive business impact?\n",
        "\n",
        "---\n",
        "\n",
        "\n",
        "Are there any insights that lead to negative growth? Justify with specific reason."
      ],
      "metadata": {
        "id": "PVzmfK_Ep1ck"
      }
    },
    {
      "cell_type": "markdown",
      "source": [
        "\n",
        "Insights about higher ADR in Room Types A and D can positively impact the business. The hotel should promote rooms E, F, and G to increase demand by offering discounts. Because customers do not prefer to book room types B, C, H, and L, the hotel can eliminate them or lowering the cost of these rooms.\n"
      ],
      "metadata": {
        "id": "druuKYZpp1ck"
      }
    },
    {
      "cell_type": "markdown",
      "source": [
        "### Bivariate Analysis"
      ],
      "metadata": {
        "id": "CF2vLnsC0mFj"
      }
    },
    {
      "cell_type": "markdown",
      "source": [
        "#### Chart - 8"
      ],
      "metadata": {
        "id": "EM7whBJCYoAo"
      }
    },
    {
      "cell_type": "markdown",
      "source": [
        "8) What channel is used most frequently for bookings?"
      ],
      "metadata": {
        "id": "h1c335GYV7gW"
      }
    },
    {
      "cell_type": "code",
      "source": [
        "# Group the 'hotel_df' DataFrame by 'hotel' and 'distribution_channel' to get the count of bookings for each combination\n",
        "df_channel = hotel_df.groupby(['hotel', 'distribution_channel'])['distribution_channel'].size().reset_index(name='count')\n",
        "\n",
        "# Create a bar plot to visualize the distribution of bookings by hotel and distribution channel\n",
        "plt.figure(figsize=(10, 6))\n",
        "sns.barplot(data=df_channel, x='hotel', y='count', hue='distribution_channel')\n",
        "\n",
        "# Add a title and labels to the plot\n",
        "plt.title('Distribution of Bookings by Hotel and Distribution Channel')\n",
        "plt.xlabel('Hotel')\n",
        "plt.ylabel('Count')\n",
        "\n",
        "# Add annotations for count above each bar\n",
        "for p in plt.gca().patches:\n",
        "    plt.gca().annotate(f'{p.get_height()}', (p.get_x() + p.get_width() / 2, p.get_height()), ha='center', va='bottom')\n",
        "\n",
        "# Show the plot\n",
        "plt.show()\n"
      ],
      "metadata": {
        "id": "t6GMdE67YoAp"
      },
      "execution_count": null,
      "outputs": []
    },
    {
      "cell_type": "markdown",
      "source": [
        "##### 1. Why did you pick the specific chart?"
      ],
      "metadata": {
        "id": "fge-S5ZAYoAp"
      }
    },
    {
      "cell_type": "markdown",
      "source": [
        "A bar chart is appropriate to use in this bivariate analysis because it is easy to interpret and can provide a clear and simple representation of the distribution of hotel bookings by hotel and distribution channel. By using a bar chart, we can compare the number of bookings made through various distribution channels for each hotel."
      ],
      "metadata": {
        "id": "5dBItgRVYoAp"
      }
    },
    {
      "cell_type": "markdown",
      "source": [
        "##### 2. What is/are the insight(s) found from the chart?"
      ],
      "metadata": {
        "id": "85gYPyotYoAp"
      }
    },
    {
      "cell_type": "markdown",
      "source": [
        "TA/TO, Direct and Coporate shows similar bookings patterns in the same reducing order in terms of number of bookings in both City and Resort Hotel whereas other means are insignificant."
      ],
      "metadata": {
        "id": "4jstXR6OYoAp"
      }
    },
    {
      "cell_type": "markdown",
      "source": [
        "##### 3. Will the gained insights help creating a positive business impact?\n",
        "Are there any insights that lead to negative growth? Justify with specific reason."
      ],
      "metadata": {
        "id": "RoGjAbkUYoAp"
      }
    },
    {
      "cell_type": "markdown",
      "source": [
        "Insights from the bar chart can lead to a positive business impact by focusing on effective distribution channels (TA/TO, Direct, and Corporate)."
      ],
      "metadata": {
        "id": "zfJ8IqMcYoAp"
      }
    },
    {
      "cell_type": "markdown",
      "source": [
        "#### Chart - 9"
      ],
      "metadata": {
        "id": "bamQiAODYuh1"
      }
    },
    {
      "cell_type": "markdown",
      "source": [
        "9) Which are the most busy months?"
      ],
      "metadata": {
        "id": "oVkDyTPbaJw0"
      }
    },
    {
      "cell_type": "code",
      "source": [
        "# Create a dataframe from the 'arrival_date_month' column of the hotel_df, with the count of bookings for each month\n",
        "bookings_by_month_df = pd.DataFrame(hotel_df['arrival_date_month'].value_counts()).rename(columns={'arrival_date_month': 'Total_bookings'})\n",
        "\n",
        "# Create a list of months in the desired order\n",
        "months = ['April', 'May', 'June', 'July', 'August', 'September', 'October', 'November', 'December', 'January', 'February', 'March']\n",
        "\n",
        "# Reindex the dataframe with the list of months\n",
        "bookings_by_month_df = bookings_by_month_df.reindex(months)\n",
        "\n",
        "# Create a line plot of the total bookings by month\n",
        "plt.subplots(figsize=(12, 8))  # Set the size of the plot\n",
        "sns.lineplot(x=bookings_by_month_df.index, y='Total_bookings', data=bookings_by_month_df)  # Use bookings_by_month_df.index as the x-axis data and 'Total_bookings' as the y-axis data\n",
        "\n",
        "# Add title to the plot\n",
        "plt.title('Total Bookings by Month')\n",
        "\n",
        "plt.show()  # Show the plot"
      ],
      "metadata": {
        "id": "-_LcbG0v4trp"
      },
      "execution_count": null,
      "outputs": []
    },
    {
      "cell_type": "markdown",
      "source": [
        "##### 1. Why did you pick the specific chart?"
      ],
      "metadata": {
        "id": "QHF8YVU7Yuh3"
      }
    },
    {
      "cell_type": "markdown",
      "source": [
        "A lineplot chart is used in this code because it is appropriate to visualize the trend of total number of bookings over time, represented by the months of the year. The lineplot chart shows a clear upward or downward trend in the total number of bookings each month, making it easier to understand the overall pattern of hotel bookings. It also provides an effective visual comparison of the total number of bookings each month, making it easier to identify any seasonal patterns or fluctuations in demand."
      ],
      "metadata": {
        "id": "dcxuIMRPYuh3"
      }
    },
    {
      "cell_type": "markdown",
      "source": [
        "##### 2. What is/are the insight(s) found from the chart?"
      ],
      "metadata": {
        "id": "GwzvFGzlYuh3"
      }
    },
    {
      "cell_type": "markdown",
      "source": [
        "Most number of bookings are made in the month of August whereas january month\n",
        "has least number of bookings."
      ],
      "metadata": {
        "id": "uyqkiB8YYuh3"
      }
    },
    {
      "cell_type": "markdown",
      "source": [
        "##### 3. Will the gained insights help creating a positive business impact?\n",
        "Are there any insights that lead to negative growth? Justify with specific reason."
      ],
      "metadata": {
        "id": "qYpmQ266Yuh3"
      }
    },
    {
      "cell_type": "markdown",
      "source": [
        "January month being the first month of the year has the least number of bookings which can be reasoned as it is followed by december month which has a lot of holidays and positive slope justifies that.\n",
        ".The insights can have a positive impact by optimizing resources and revenue during peak months. However, low bookings in January may require special marketing strategies to avoid negative growth."
      ],
      "metadata": {
        "id": "_WtzZ_hCYuh4"
      }
    },
    {
      "cell_type": "markdown",
      "source": [
        "#### Chart - 10"
      ],
      "metadata": {
        "id": "OH-pJp9IphqM"
      }
    },
    {
      "cell_type": "markdown",
      "source": [
        "10) How many rooms are cancelled on a monthly basis?"
      ],
      "metadata": {
        "id": "WlGQuAFUFT6x"
      }
    },
    {
      "cell_type": "code",
      "source": [
        "import matplotlib.pyplot as plt\n",
        "\n",
        "# Group the canceled bookings by hotel and arrival month\n",
        "hotel_df_not_canceled_month = hotel_df_not_canceled.groupby(['hotel', 'arrival_date_month']).size().reset_index(name='count')\n",
        "hotel_df_not_canceled_month\n",
        "\n",
        "# Define the order of months\n",
        "months = ['April', 'May', 'June', 'July', 'August', 'September', 'October', 'November', 'December', 'January', 'February', 'March']\n",
        "\n",
        "# Pivot the data to have hotels as columns and months as index\n",
        "hotel_df_not_canceled_pivot = hotel_df_not_canceled_month.pivot(index='arrival_date_month', columns='hotel', values='count').reindex(months)\n",
        "# Plot the bar chart\n",
        "hotel_df_not_canceled_pivot.plot(kind='bar', figsize=(10, 6), color=['#2D3E50', '#FC4349'])\n",
        "\n",
        "# Set the plot title and labels\n",
        "plt.title('Number of Canceled Bookings by Month')\n",
        "plt.xlabel('Month')\n",
        "plt.ylabel('Count')\n",
        "\n",
        "# Customize the x-axis labels\n",
        "plt.xticks(rotation=45)\n",
        "\n",
        "# Show the plot\n",
        "plt.show()\n"
      ],
      "metadata": {
        "id": "kuRf4wtuphqN"
      },
      "execution_count": null,
      "outputs": []
    },
    {
      "cell_type": "markdown",
      "source": [
        "##### 1. Why did you pick the specific chart?"
      ],
      "metadata": {
        "id": "bbFf2-_FphqN"
      }
    },
    {
      "cell_type": "markdown",
      "source": [
        "A bar chart is a good choice for bivariate analysis visualizing the number of cancellations by hotel. In this case, the bar chart displays the total number of cancellations for each hotel on the y-axis and the hotels on the x-axis. The bar chart allows for an easy comparison between the number of cancellations for each hotel and provides a clear visual representation of the distribution of cancellations."
      ],
      "metadata": {
        "id": "loh7H2nzphqN"
      }
    },
    {
      "cell_type": "markdown",
      "source": [
        "##### 2. What is/are the insight(s) found from the chart?"
      ],
      "metadata": {
        "id": "_ouA3fa0phqN"
      }
    },
    {
      "cell_type": "markdown",
      "source": [
        "Following from the month of June the number of cancelations increases steeply for both the hotels and the peek is observed in August accounting for most number of cancelations for both hotels. The later half of the year has least number of cancelations for both hotels which can also be justified as the number of bookings in the later half of the year are less."
      ],
      "metadata": {
        "id": "VECbqPI7phqN"
      }
    },
    {
      "cell_type": "markdown",
      "source": [
        "##### 3. Will the gained insights help creating a positive business impact?\n",
        "Are there any insights that lead to negative growth? Justify with specific reason."
      ],
      "metadata": {
        "id": "Seke61FWphqN"
      }
    },
    {
      "cell_type": "markdown",
      "source": [
        "The insights from the bar chart can positively impact the business by helping hotels understand when cancellations are most likely to occur. This information allows them to adjust their operations and resources accordingly, potentially reducing losses from cancellations. On the other hand, the high number of cancellations observed in August should be handled with more effective pricing and packages which makes it resistive to cancelations."
      ],
      "metadata": {
        "id": "DW4_bGpfphqN"
      }
    },
    {
      "cell_type": "markdown",
      "source": [
        "#### Chart - 11"
      ],
      "metadata": {
        "id": "BZR9WyysphqO"
      }
    },
    {
      "cell_type": "markdown",
      "source": [
        "11) Which are the top 10 and last countries in terms of number of travellers ?"
      ],
      "metadata": {
        "id": "zYgIZWwzzBxA"
      }
    },
    {
      "cell_type": "code",
      "source": [
        "# Create a DataFrame containing the number of travellers for each country\n",
        "travellers_country_df = hotel_df['country'].value_counts().reset_index().rename(columns={'index':'country','country':'number_of_travellers'})\n",
        "\n",
        "# Select the top 3 and bottom 1 country in the DataFrame\n",
        "travellers_country_df = travellers_country_df[:10].append(travellers_country_df.tail(1))\n",
        "\n",
        "# Display the\n",
        "travellers_country_df\n"
      ],
      "metadata": {
        "id": "TdPTWpAVphqO"
      },
      "execution_count": null,
      "outputs": []
    },
    {
      "cell_type": "code",
      "source": [
        "# Create a choropleth chart showing the distribution of travellers by country\n",
        "fig = px.choropleth(travellers_country_df, locationmode=\"ISO-3\", color='number_of_travellers',\n",
        "                    locations = 'country', width=1200, height = 600, title = 'Distribution of Travellers by country')\n",
        "\n",
        "# Show the chart\n",
        "fig.show()\n"
      ],
      "metadata": {
        "id": "kgVFhUGmXIzz"
      },
      "execution_count": null,
      "outputs": []
    },
    {
      "cell_type": "markdown",
      "source": [
        "##### 1. Why did you pick the specific chart?"
      ],
      "metadata": {
        "id": "jj7wYXLtphqO"
      }
    },
    {
      "cell_type": "markdown",
      "source": [
        "Choropleth chart is picked because it shows the distribution of a particular variable across different regions or countries if we have a geographical data."
      ],
      "metadata": {
        "id": "Ob8u6rCTphqO"
      }
    },
    {
      "cell_type": "markdown",
      "source": [
        "##### 2. What is/are the insight(s) found from the chart?"
      ],
      "metadata": {
        "id": "eZrbJ2SmphqO"
      }
    },
    {
      "cell_type": "markdown",
      "source": [
        "Most of the travellers are from Europian countries. In the above chart we can see that Portugal, UK, and france are top 3 countries with highest number of travellers in order whereas Combodia comes last in terms of number of travellers."
      ],
      "metadata": {
        "id": "mZtgC_hjphqO"
      }
    },
    {
      "cell_type": "markdown",
      "source": [
        "##### 3. Will the gained insights help creating a positive business impact?\n",
        "Are there any insights that lead to negative growth? Justify with specific reason."
      ],
      "metadata": {
        "id": "rFu4xreNphqO"
      }
    },
    {
      "cell_type": "markdown",
      "source": [
        "The insight that most travelers are from European countries can lead to a positive business impact by tailoring services and marketing strategies accordingly. However, the lower number of travelers from countries like Cambodia may require targeted efforts to attract more bookings from that region and improve business prospects."
      ],
      "metadata": {
        "id": "ey_0qi68phqO"
      }
    },
    {
      "cell_type": "markdown",
      "source": [
        "#### Chart - 12"
      ],
      "metadata": {
        "id": "n3dbpmDWp1ck"
      }
    },
    {
      "cell_type": "markdown",
      "source": [
        "12) What is the price variation of rooms?"
      ],
      "metadata": {
        "id": "g75OlRgGNaA4"
      }
    },
    {
      "cell_type": "code",
      "source": [
        "# Select relevant columns from the DataFrame\n",
        "room_price = hotel_df[['hotel', 'adr', 'reserved_room_type']]\n",
        "\n",
        "# Sort the DataFrame by 'reserved_room_type'\n",
        "room_price = room_price.sort_values(by='reserved_room_type')\n",
        "\n",
        "# Create the boxplot using seaborn\n",
        "plt.figure(figsize=(12, 6))\n",
        "sns.boxplot(data=room_price, x='reserved_room_type', y='adr', hue='hotel', fliersize=0)\n",
        "\n",
        "# Set the y-axis limit to focus on the price variation\n",
        "plt.ylim(0, 400)\n",
        "\n",
        "# Add labels and title to the plot\n",
        "plt.xlabel('Room Type', fontsize=12)\n",
        "plt.ylabel('Price Variation')\n",
        "plt.title('Average Price by Room Type', fontsize=20, pad=10)\n",
        "\n",
        "# Show the plot\n",
        "plt.show()\n"
      ],
      "metadata": {
        "id": "bwevp1tKp1ck"
      },
      "execution_count": null,
      "outputs": []
    },
    {
      "cell_type": "markdown",
      "source": [
        "##### 1. Why did you pick the specific chart?"
      ],
      "metadata": {
        "id": "ylSl6qgtp1ck"
      }
    },
    {
      "cell_type": "markdown",
      "source": [
        "We chose a boxplot because it effectively shows the price variation (ADR) for different room types in City and Resort hotels. It allows for easy comparison of price distributions and identifies any differences or patterns."
      ],
      "metadata": {
        "id": "m2xqNkiQp1ck"
      }
    },
    {
      "cell_type": "markdown",
      "source": [
        "##### 2. What is/are the insight(s) found from the chart?"
      ],
      "metadata": {
        "id": "ZWILFDl5p1ck"
      }
    },
    {
      "cell_type": "markdown",
      "source": [
        "The median price variations in City hotels are slightly lower than in Resort hotels. On average, the room prices are higher in City Hotel compared to Resort Hotel, particularly for Room Type G, which is also the most expensive room in City Hotel among both hotels.\n",
        "The average price for Room Type A in Resort Hotel is the lowest among both hotels."
      ],
      "metadata": {
        "id": "x-lUsV2mp1ck"
      }
    },
    {
      "cell_type": "markdown",
      "source": [
        "##### 3. Will the gained insights help creating a positive business impact?\n",
        "Are there any insights that lead to negative growth? Justify with specific reason."
      ],
      "metadata": {
        "id": "M7G43BXep1ck"
      }
    },
    {
      "cell_type": "markdown",
      "source": [
        "The insights can help the business by identifying price variations and popular room types. However, it may also highlight potential negative growth for less popular room types in both hotels."
      ],
      "metadata": {
        "id": "5wwDJXsLp1cl"
      }
    },
    {
      "cell_type": "markdown",
      "source": [
        "#### Chart - 13"
      ],
      "metadata": {
        "id": "Ag9LCva-p1cl"
      }
    },
    {
      "cell_type": "markdown",
      "source": [
        "13) What is the average number of guests everyday?"
      ],
      "metadata": {
        "id": "Ilnsby_EZ9Nr"
      }
    },
    {
      "cell_type": "code",
      "source": [
        "# Dictionary to map month names to numerical values\n",
        "month_to_num = {\n",
        "    'January': 1, 'February': 2, 'March': 3, 'April': 4, 'May': 5, 'June': 6,\n",
        "    'July': 7, 'August': 8, 'September': 9, 'October': 10, 'November': 11, 'December': 12\n",
        "}\n",
        "\n",
        "# Map month names to numerical values\n",
        "hotel_df_not_canceled['month_num'] = hotel_df_not_canceled['arrival_date_month'].map(month_to_num)\n",
        "\n",
        "# Combine year, month, and day columns into a single 'date_str' column as strings\n",
        "hotel_df_not_canceled['date_str'] = hotel_df_not_canceled['arrival_date_year'].astype(str) + '-' + hotel_df_not_canceled['month_num'].astype(str) + '-' + hotel_df_not_canceled['arrival_date_day_of_month'].astype(str)\n",
        "\n",
        "# Convert the 'date_str' column to datetime format and store it in the 'date' column\n",
        "hotel_df_not_canceled['date'] = pd.to_datetime(hotel_df_not_canceled['date_str'], format='%Y-%m-%d')\n",
        "\n",
        "# Drop intermediate columns 'month_num' and 'date_str' as they are no longer needed\n",
        "hotel_df_not_canceled.drop(columns=['month_num', 'date_str'], inplace=True)\n",
        "\n",
        "# Add a new column representing the day of the week based on the 'date' column\n",
        "hotel_df_not_canceled['day_of_week'] = hotel_df_not_canceled['date'].dt.day_name()\n",
        "\n",
        "# Group the data by 'hotel' and 'day_of_week', calculate the number of bookings on each day, and reset the index\n",
        "bookings_by_day = hotel_df_not_canceled.groupby(['hotel', 'day_of_week']).size().reset_index(name='bookings')\n",
        "\n",
        "# Reorder the columns and sort the data by the order of days in a week\n",
        "order_of_days = ['Monday', 'Tuesday', 'Wednesday', 'Thursday', 'Friday', 'Saturday', 'Sunday']\n",
        "bookings_by_day = bookings_by_day.reindex(columns=['day_of_week', 'hotel', 'bookings'])\n",
        "bookings_by_day['day_of_week'] = pd.Categorical(bookings_by_day['day_of_week'], categories=order_of_days, ordered=True)\n",
        "bookings_by_day.sort_values(by='day_of_week', inplace=True)\n",
        "\n",
        "# Display the resulting DataFrame\n",
        "bookings_by_day\n",
        "\n",
        "\n"
      ],
      "metadata": {
        "id": "EUfxeq9-p1cl"
      },
      "execution_count": null,
      "outputs": []
    },
    {
      "cell_type": "code",
      "source": [
        "# Set the size of the plot\n",
        "plt.figure(figsize=(12, 6))\n",
        "\n",
        "# Set the style of the plot to 'whitegrid' for a clear background with grid lines\n",
        "sns.set(style='whitegrid')\n",
        "\n",
        "# Create a bar plot with 'day_of_week' on the x-axis, 'bookings' on the y-axis, and 'hotel' for color grouping\n",
        "plots = sns.barplot(x=bookings_by_day['day_of_week'], y=bookings_by_day['bookings'], hue=bookings_by_day['hotel'])\n",
        "\n",
        "# Add annotations for the bar heights to display exact values on top of the bars\n",
        "for bar in plots.patches:\n",
        "    plots.annotate(format(bar.get_height(), '.0f'),\n",
        "                   (bar.get_x() + bar.get_width() / 2, bar.get_height()),\n",
        "                   ha='center', va='center', size=10, xytext=(0, 5),\n",
        "                   textcoords='offset points')\n",
        "\n",
        "# Rotate the x-axis labels for better readability\n",
        "plt.xticks(rotation=45)\n",
        "\n",
        "# Add a legend to differentiate between the two hotels (City and Resort)\n",
        "plt.legend(loc='best')\n",
        "\n",
        "# Set the title and axis labels\n",
        "plt.title('Average number of guests every day', fontsize=20)\n",
        "plt.xlabel('Days', fontsize=15)\n",
        "plt.ylabel('Number of guests', fontsize=15)\n",
        "\n",
        "# Show the plot\n",
        "plt.show()\n"
      ],
      "metadata": {
        "id": "Y6wuQlhkHNJs"
      },
      "execution_count": null,
      "outputs": []
    },
    {
      "cell_type": "markdown",
      "source": [
        "##### 1. Why did you pick the specific chart?"
      ],
      "metadata": {
        "id": "E6MkPsBcp1cl"
      }
    },
    {
      "cell_type": "markdown",
      "source": [
        "The bar plot is chosen to show the average number of guests every day of the week for both hotels (City and Resort). It allows easy comparison of guest numbers and highlights any patterns or trends in hotel occupancy. The use of color helps distinguish between the hotels, making the visualization clear and effective."
      ],
      "metadata": {
        "id": "V22bRsFWp1cl"
      }
    },
    {
      "cell_type": "markdown",
      "source": [
        "##### 2. What is/are the insight(s) found from the chart?"
      ],
      "metadata": {
        "id": "2cELzS2fp1cl"
      }
    },
    {
      "cell_type": "markdown",
      "source": [
        "The number of bookings for both the hotels increases when we approach the weekend. City hotel has max booking on friday while Resort Hotel has on Saturday. The minimum bookings can be seen on Tuesday and Wednesday for City and Resort Hotel respectively."
      ],
      "metadata": {
        "id": "ozQPc2_Ip1cl"
      }
    },
    {
      "cell_type": "markdown",
      "source": [
        "##### 3. Will the gained insights help creating a positive business impact?\n",
        "Are there any insights that lead to negative growth? Justify with specific reason."
      ],
      "metadata": {
        "id": "3MPXvC8up1cl"
      }
    },
    {
      "cell_type": "markdown",
      "source": [
        "Bookings increase near the weekend, so the hotel can plan accordingly. the hotel can focus on targeting specific weekday audiences, such as business travelers or local residents, to increase weekday occupancy."
      ],
      "metadata": {
        "id": "GL8l1tdLp1cl"
      }
    },
    {
      "cell_type": "markdown",
      "source": [
        "### Multivariate Analysis"
      ],
      "metadata": {
        "id": "j_9eGlLM8w_Q"
      }
    },
    {
      "cell_type": "markdown",
      "source": [
        "#### Chart - 14 - Correlation Heatmap"
      ],
      "metadata": {
        "id": "NC_X3p0fY2L0"
      }
    },
    {
      "cell_type": "code",
      "source": [
        "# Correlation Heatmap visualization code\n",
        "# Chart - 1 visualization code\n",
        "# correlation matrix\n",
        "# columns to be used in correlation matrix\n",
        "corr_df = hotel_df[['lead_time', 'previous_cancellations',\n",
        "'previous_bookings_not_canceled', 'booking_changes', 'days_in_waiting_list', 'adr',\n",
        "'required_car_parking_spaces', 'total_of_special_requests',\n",
        "'reservation_status', 'total_guests',\n",
        "'total_stay','is_canceled']]\n",
        "\n",
        "# Calculate the correlation matrix\n",
        "corr_matrix = corr_df.corr()\n",
        "\n",
        "# Set the size of the plot\n",
        "plt.subplots(figsize= (15,8))\n",
        "\n",
        "# Create a heatmap of the correlation matrix\n",
        "sns.heatmap(corr_matrix,annot = True)\n",
        "\n",
        "# Show the plot\n",
        "plt.show()"
      ],
      "metadata": {
        "id": "xyC9zolEZNRQ"
      },
      "execution_count": null,
      "outputs": []
    },
    {
      "cell_type": "markdown",
      "source": [
        "##### 1. Why did you pick the specific chart?"
      ],
      "metadata": {
        "id": "UV0SzAkaZNRQ"
      }
    },
    {
      "cell_type": "markdown",
      "source": [
        "Heatmaps are used to visualize the correlation between different variables. The heatmap is an appropriate chart to use in this code because it displays the correlation between multiple variables in a clear and concise manner. The use of a heatmap allows the user to quickly and easily identify any strong or weak relationships between the variables, as well as the direction of the relationship (positive or negative)."
      ],
      "metadata": {
        "id": "DVPuT8LYZNRQ"
      }
    },
    {
      "cell_type": "markdown",
      "source": [
        "##### 2. What is/are the insight(s) found from the chart?"
      ],
      "metadata": {
        "id": "YPEH6qLeZNRQ"
      }
    },
    {
      "cell_type": "markdown",
      "source": [
        "a) Total stay length and lead time has some coorrelation which means that travellers who stay for longer duration of time tend to make their bookings earlier than others.\n",
        "\n",
        "b) adr and total guests have some correlation which is quite obvious as the both are directly proportional to each other .\n",
        "\n",
        "c) The variables lead_time and is_canceled have weak relationships. This means a longer lead time hardly affects the cancelation."
      ],
      "metadata": {
        "id": "bfSqtnDqZNRR"
      }
    },
    {
      "cell_type": "markdown",
      "source": [
        "#### Chart - 15 - Pair Plot"
      ],
      "metadata": {
        "id": "q29F0dvdveiT"
      }
    },
    {
      "cell_type": "code",
      "source": [
        "# Selecting relevant columns for the pair plot\n",
        "df_sub = hotel_df[['hotel', 'is_canceled', 'lead_time', 'arrival_date_year', 'arrival_date_month', 'meal',\n",
        "                   'market_segment', 'distribution_channel', 'reserved_room_type', 'assigned_room_type',\n",
        "                   'deposit_type', 'days_in_waiting_list', 'customer_type', 'adr', 'total_stay', 'total_guests']]\n",
        "\n",
        "# Set the aesthetics for the pair plot\n",
        "sns.set(style='ticks', font_scale=1.2, palette='viridis')\n",
        "\n",
        "# Plotting pair plot for the dataset\n",
        "plt.figure(figsize=(12, 10))\n",
        "ax = sns.pairplot(df_sub)\n",
        "\n",
        "# Set the title for the pair plot\n",
        "plt.suptitle('Pair Plot for Hotel Booking Dataset', y=1.02, fontsize=18)\n",
        "\n",
        "# Display the pair plot\n",
        "plt.show()\n"
      ],
      "metadata": {
        "id": "o58-TEIhveiU"
      },
      "execution_count": null,
      "outputs": []
    },
    {
      "cell_type": "markdown",
      "source": [
        "##### 1. Why did you pick the specific chart?"
      ],
      "metadata": {
        "id": "EXh0U9oCveiU"
      }
    },
    {
      "cell_type": "markdown",
      "source": [
        "The pair plot is chosen for this dataset as it enables the visualization of relationships between multiple numerical variables at once, providing valuable insights and patterns in the data."
      ],
      "metadata": {
        "id": "eMmPjTByveiU"
      }
    },
    {
      "cell_type": "markdown",
      "source": [
        "##### 2. What is/are the insight(s) found from the chart?"
      ],
      "metadata": {
        "id": "22aHeOlLveiV"
      }
    },
    {
      "cell_type": "markdown",
      "source": [
        "1) Longer lead time does not result in cancellations, as indicated by the relationship between lead_time and is_canceled.\n",
        "\n",
        "2) Over time, there is an increasing interest in booking rooms in advance, as observed in the lead_time and arrival_date_year graphs.\n",
        "\n",
        "3) In the year 2016, the longest waiting period for room bookings was recorded, based on the graph of arrival_date_year and days_in_waiting_list.\n",
        "\n",
        "4) A short minimum waiting period for bookings is associated with higher ADR (Average Daily Rate), as shown in the graph of ADR and days_in_waiting_list.\n",
        "\n",
        "5) The waiting period for bookings is not a significant factor in booking cancellations, as inferred from the graph of \"is_canceled\" and \"days_in_waiting_list.\""
      ],
      "metadata": {
        "id": "uPQ8RGwHveiV"
      }
    },
    {
      "cell_type": "markdown",
      "source": [
        "## **5. Solution to Business Objective**"
      ],
      "metadata": {
        "id": "JcMwzZxoAimU"
      }
    },
    {
      "cell_type": "markdown",
      "source": [
        "#### What do you suggest the client to achieve Business Objective ?\n",
        "Explain Briefly."
      ],
      "metadata": {
        "id": "8G2x9gOozGDZ"
      }
    },
    {
      "cell_type": "markdown",
      "source": [
        "\n",
        "* A city hotel has more bookings than a resort. Offer packages and promotions\n",
        "to promote bookings for the resort hotel.\n",
        "\n",
        "* Most bookings made through TA/TO distribution are followed by corporate distribution, hotels should invest in both TA/TO and corporate distribution channels. TA/TO and direct bookings can have a positive impact by strengthening agent relationships. However, overreliance on agents may pose a risk, and the business should focus on diversifying bookings through efforts to promote direct and CDorporate Bookings and giving good bulk discounts package. GDS(Global Distribution System)and other channels should be dropped due insgnificant number of bookings.\n",
        "\n",
        "* City hotel generates higher revenue can positively impact resource allocation, marketing, and investment decisions. However, neglecting Resort hotel could hinder growth potential. Balancing strategies for both hotels is crucial for overall business success.\n",
        "\n",
        "* BB is the most requested food. The insights on meal preferences can help hotels prioritize breakfast options and design package offers. However, FB preferences are influenced by customer behavior, which may not be directly controllable. At most one can come up with exciting packages for lunch and dinner. Balancing guest experiences is crucial for positive outcomes.\n",
        "\n",
        "\n",
        "* Room Type A and D have the highest ADR. E,F,G have moderate ADR while other room types have insignificant ADR. The hotel should promote rooms E, F, and G to increase demand by offering discounts. Because customers do not prefer to book room types B, C, H, and L, the hotel can eliminate them or lowering the cost of these rooms.\n",
        "\n",
        "* Almost 25% of customers cancelled their bookings. Hotel should implement a cancellation policy, discount on confirmed bookings, and send booking reminders to guests to reduce booking cancellations.\n",
        "\n",
        "* Most number of bookings are made in the month of August whereas january month\n",
        "has least number of bookings. The insights can have a positive impact by optimizing resources and revenue during peak months. However, low bookings in January may require special marketing strategies to avoid negative growth.\n",
        "\n",
        "* Following from the month of June the number of cancelations increases steeply for both the hotels and the peek is observed in August accounting for most number of cancelations for both hotels. The later half of the year has least number of cancelations for both hotels. This insight allows us to adjust the operations and resources accordingly, potentially reducing losses from cancellations. On the other hand, the high number of cancellations observed in August should be handled with more effective pricing and packages which makes it resistive to cancel.\n",
        "\n",
        "* The number of bookings for both the hotels increases when we approach the weekend. City hotel has max booking on friday while Resort Hotel has on Saturday. The minimum bookings can be seen on Tuesday and Wednesday for City and Resort Hotel respectively. Bookings increase near the weekend, so the hotel can plan accordingly. Hotels can focus on targeting specific weekday audiences, such as business travelers or local residents, to increase weekday occupancy.\n",
        "\n"
      ],
      "metadata": {
        "id": "pASKb0qOza21"
      }
    },
    {
      "cell_type": "markdown",
      "source": [
        "# **Conclusion**"
      ],
      "metadata": {
        "id": "gCX9965dhzqZ"
      }
    },
    {
      "cell_type": "markdown",
      "source": [
        "\n",
        "* City hotels received more bookings than resort hotels.\n",
        "\n",
        "* The top country with the most bookings was PRT.\n",
        "\n",
        "* Agent 9 was the most active with the highest number of bookings.\n",
        "\n",
        "* A majority of customers preferred city hotels over resort hotels by a significant margin of 61.07 percent.\n",
        "\n",
        "* One among every four reservations in the dataset were canceled.\n",
        "\n",
        "* The most popular meal type was BB (Bread and Breakfast).\n",
        "\n",
        "* Most bookings were made using TA/TO (Travel Agents/Tour Operators), the leading distribution channel.\n",
        "\n",
        "* Room Type A was the most preferred choice among customers.\n",
        "\n",
        "* August was the busiest month.\n",
        "\n",
        "* adr and total guests have some correlation which is quite obvious as the both are directly proportional to each other .\n",
        "\n",
        "* The variables lead_time and is_canceled have weak relationships. This means a longer lead time hardly affects the cancelation.\n",
        "\n",
        "* Longer lead time does not result in cancellations, as indicated by the relationship between lead_time and is_canceled.\n",
        "\n",
        "* Over time, there is an increasing interest in booking rooms in advance, as observed in the lead_time and arrival_date_year graphs.\n",
        "\n",
        "* In the year 2016, the longest waiting period for room bookings was recorded, based on the graph of arrival_date_year and days_in_waiting_list.\n",
        "\n",
        "* A short minimum waiting period for bookings is associated with higher ADR (Average Daily Rate), as shown in the graph of ADR and days_in_waiting_list.\n",
        "\n",
        "* The waiting period for bookings is not a significant factor in booking cancellations, as inferred from the graph of \"is_canceled\" and \"days_in_waiting_list.\""
      ],
      "metadata": {
        "id": "Fjb1IsQkh3yE"
      }
    },
    {
      "cell_type": "markdown",
      "source": [
        "### ***Hurrah! You have successfully completed your EDA Capstone Project !!!***"
      ],
      "metadata": {
        "id": "gIfDvo9L0UH2"
      }
    }
  ]
}